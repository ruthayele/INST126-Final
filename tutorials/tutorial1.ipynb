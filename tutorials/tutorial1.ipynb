{
  "cells": [
    {
      "cell_type": "markdown",
      "metadata": {
        "id": "4yEJ8gOFD2Rb"
      },
      "source": [
        "<a target=\"_blank\" rel=\"noopener noreferrer\" href=\"https://colab.research.google.com/github/epacuit/introduction-machine-learning/blob/main/tutorials/tutorial1.ipynb\">![Open In Colab](https://colab.research.google.com/assets/colab-badge.svg)</a>\n",
        "\n",
        "Before you turn this problem in, make sure everything runs as expected. First, **restart the kernel** (in the menubar, select Kernel $\\rightarrow$ Restart) and then **run all cells** (in the menubar, select Cell $\\rightarrow$ Run All).\n",
        "\n",
        "Make sure you fill in any place that says `YOUR CODE HERE` or \"YOUR ANSWER HERE\", as well as your name and collaborators below:"
      ]
    },
    {
      "cell_type": "code",
      "execution_count": null,
      "metadata": {
        "id": "YFAQxusYD2Re"
      },
      "outputs": [],
      "source": [
        "NAME = \"\"\n",
        "COLLABORATORS = \"\""
      ]
    },
    {
      "cell_type": "markdown",
      "metadata": {
        "id": "7lKFCm5BD2Rf"
      },
      "source": [
        "---"
      ]
    },
    {
      "cell_type": "markdown",
      "metadata": {
        "deletable": false,
        "editable": false,
        "nbgrader": {
          "cell_type": "markdown",
          "checksum": "7147088d87d74f26bc307c7b9649f19d",
          "grade": false,
          "grade_id": "jupyter",
          "locked": true,
          "schema_version": 3,
          "solution": false
        },
        "id": "aKz8AZBiD2Rf"
      },
      "source": [
        "(tutorial1)=\n",
        "# Tutorial 1: Introduction to Python\n",
        "\n",
        "In this tutorial, we will cover the basics of Python programming language. We will cover the following topics:\n",
        "\n",
        "* lists\n",
        "* dictionaries\n",
        "* for loops\n",
        "* functions\n",
        "\n",
        "Suppose that we have some data about YouTube videos.  For instance, we have the following data:\n",
        "\n",
        "1. `video_id`: the id of the video\n",
        "2. `title`: the title of the video\n",
        "3. `view_count`: the number of times the video was viewed\n",
        "4. `like_count`: the number of times the video was liked\n",
        "5. `comment_count`: the number of comments on the video\n",
        "6. `duration`: the duration of the video\n",
        "\n",
        "One way to store this information is as a list that contains a list of the 6 elements above. So, it is a list of lists where each inner list contains 6 elements, the first is the video_id, the second is the title, and so on."
      ]
    },
    {
      "cell_type": "code",
      "execution_count": 3,
      "metadata": {
        "deletable": false,
        "editable": false,
        "nbgrader": {
          "cell_type": "code",
          "checksum": "f76b0df97a7dd2422d6861663b6bf8dc",
          "grade": false,
          "grade_id": "cell-c47f08b258a1d9b5",
          "locked": true,
          "schema_version": 3,
          "solution": false,
          "task": false
        },
        "id": "WBVZf-dtD2Rf"
      },
      "outputs": [],
      "source": [
        "data = [['DE1-cD3pTkA', 'Walker Texas Ranger clip LIVE', 224, 1, 0, 'PT32S'],\n",
        " ['XZqSz_X-j8Y', 'Egg mcmuffin of a crappy commercial', 1919, 7, 3, 'PT44S'],\n",
        " ['vzpD6OogahQ', 'Potter Puppet Pals: School Is For Losers', 14958231, 87806, 11321, 'PT33S'],\n",
        " ['_OpzEHBDwQE', 'Very Funny Commercial  Think Beyond Your Ear (UNRELEASED)', 61696,  179, 2, 'PT38S'],\n",
        " ['yzGWOpop6i8', 'Happy Valentines Day', 15852, 315, 77, 'PT1M14S'],\n",
        " ['fCmkdzl6b84', 'Hermione and Scabior - E.T.', 805, 14, 1, 'PT42S'],\n",
        " ['DOD38Y72zyk', 'Minecraft: TNT Rocket', 2174, 16, 3, 'PT1M9S'],\n",
        " ['UYQqu53mFng',\n",
        "  'Gears Of War 3 - Official Trailer (Cenizas a las cenizas) (Ashes to Ashes)',\n",
        "51,0,0,'PT1M15S'],\n",
        " ['c1NaGio2Geo', 'Caller X episode 3', 13716, 525, 130, 'PT1M18S'],\n",
        " ['BpKQEoN5M2g', 'COOLEST GUY ON THE RIDE', 22065, 450, 114, 'PT1M13S']]"
      ]
    },
    {
      "cell_type": "markdown",
      "metadata": {
        "deletable": false,
        "editable": false,
        "nbgrader": {
          "cell_type": "markdown",
          "checksum": "8fbf5878ae0db66a9b558a8058741437",
          "grade": false,
          "grade_id": "cell-0c2e8b045aea2c10",
          "locked": true,
          "schema_version": 3,
          "solution": false,
          "task": false
        },
        "id": "isH59HkhD2Rg"
      },
      "source": [
        "### 1.  Write a function that accepts a list of the above 6 pieces of information about the videos and return the average number of views of the videos.  "
      ]
    },
    {
      "cell_type": "code",
      "execution_count": 15,
      "metadata": {
        "deletable": false,
        "nbgrader": {
          "cell_type": "code",
          "checksum": "3f91815689c9b480df733cec4edf4177",
          "grade": false,
          "grade_id": "cell-9ed6c693b98c0519",
          "locked": false,
          "schema_version": 3,
          "solution": true,
          "task": false
        },
        "id": "WpsDj4y-D2Rg",
        "outputId": "45dedcb4-456f-4636-d573-c38c358bbbaf",
        "colab": {
          "base_uri": "https://localhost:8080/"
        }
      },
      "outputs": [
        {
          "output_type": "execute_result",
          "data": {
            "text/plain": [
              "1507673.3"
            ]
          },
          "metadata": {},
          "execution_count": 15
        }
      ],
      "source": [
        "def avg_view_count(data):\n",
        "    \"\"\"\n",
        "    This function takes a list of lists as input. Each list contains the following elements: video_id, title, view_count, like_count, comment_count, duration. The function should return the average view count of the videos in the input list.\n",
        "    \"\"\"\n",
        "\n",
        "    n = 0\n",
        "    for d in data:\n",
        "      n+= d[2]\n",
        "    return n/len(data)\n",
        "\n",
        "avg_view_count(data)\n",
        "\n"
      ]
    },
    {
      "cell_type": "code",
      "execution_count": null,
      "metadata": {
        "deletable": false,
        "editable": false,
        "nbgrader": {
          "cell_type": "code",
          "checksum": "e43eafc16866407128736ef36508f8c0",
          "grade": true,
          "grade_id": "cell-7a8c1350fcf9c7a9",
          "locked": true,
          "points": 2,
          "schema_version": 3,
          "solution": false,
          "task": false
        },
        "id": "-_8bbbPzD2Rg"
      },
      "outputs": [],
      "source": [
        "\"\"\"Check that the output is correct\"\"\"\n",
        "assert avg_view_count(data) == 1507673.3\n",
        "assert avg_view_count(data[0:5]) == 3007584.4\n",
        "assert avg_view_count([data[0]]) == 224.0\n",
        "assert avg_view_count([]) == 0\n"
      ]
    },
    {
      "cell_type": "markdown",
      "metadata": {
        "deletable": false,
        "editable": false,
        "nbgrader": {
          "cell_type": "markdown",
          "checksum": "071663c9b56430b5dfd55fa43913bfa9",
          "grade": false,
          "grade_id": "cell-c5ee98e1b6083107",
          "locked": true,
          "schema_version": 3,
          "solution": false,
          "task": false
        },
        "id": "4SSWL_yLD2Rg"
      },
      "source": [
        "### 2.  Write a function that accepts a list of the above 6 pieces of information about the videos and return the average number of likes of the videos.  "
      ]
    },
    {
      "cell_type": "code",
      "execution_count": 16,
      "metadata": {
        "deletable": false,
        "nbgrader": {
          "cell_type": "code",
          "checksum": "93d370903de31ec9966c1b4d106c8aac",
          "grade": false,
          "grade_id": "cell-fe8a935c32a0c985",
          "locked": false,
          "schema_version": 3,
          "solution": true,
          "task": false
        },
        "id": "wiWjPzVGD2Rg",
        "outputId": "4ca2ad4d-ae09-490e-fe52-9c7dfb025be2",
        "colab": {
          "base_uri": "https://localhost:8080/"
        }
      },
      "outputs": [
        {
          "output_type": "execute_result",
          "data": {
            "text/plain": [
              "8931.3"
            ]
          },
          "metadata": {},
          "execution_count": 16
        }
      ],
      "source": [
        "def avg_num_likes(data):\n",
        "    \"\"\"\n",
        "    This function takes a list of lists as input. Each list contains the following elements: video_id, title, view_count, like_count, comment_count, duration. The function should return the average number of likes of the videos in the input list.\n",
        "    \"\"\"\n",
        "    n = 0\n",
        "    for d in data:\n",
        "      n+= d[3]\n",
        "    return n/len(data)\n",
        "\n",
        "avg_num_likes(data)\n"
      ]
    },
    {
      "cell_type": "code",
      "execution_count": null,
      "metadata": {
        "deletable": false,
        "editable": false,
        "nbgrader": {
          "cell_type": "code",
          "checksum": "1879e84cf3abd3bb07a14cf387df8296",
          "grade": true,
          "grade_id": "cell-1443f663dce81a59",
          "locked": true,
          "points": 2,
          "schema_version": 3,
          "solution": false,
          "task": false
        },
        "id": "HLYf3yiaD2Rg"
      },
      "outputs": [],
      "source": [
        "\"\"\"Check that the output is correct\"\"\"\n",
        "assert avg_num_likes(data) == 8931.3\n",
        "assert avg_num_likes(data[0:5]) == 17661.6\n",
        "assert avg_num_likes([data[0]]) == data[0][3]\n",
        "assert avg_num_likes([]) == 0\n"
      ]
    },
    {
      "cell_type": "markdown",
      "metadata": {
        "deletable": false,
        "editable": false,
        "nbgrader": {
          "cell_type": "markdown",
          "checksum": "5f074b9f50584e2f9a416224477e63c9",
          "grade": false,
          "grade_id": "cell-6e926bfad598a52e",
          "locked": true,
          "schema_version": 3,
          "solution": false,
          "task": false
        },
        "id": "1TRQCJCFD2Rg"
      },
      "source": [
        "### 3. Write a function that accepts a list of the above 6 pieces of information about the videos and returns a dictionary with the keys the id of the video and the value the number of likes."
      ]
    },
    {
      "cell_type": "code",
      "execution_count": 19,
      "metadata": {
        "deletable": false,
        "nbgrader": {
          "cell_type": "code",
          "checksum": "c9b1132c9c900507f996a5289212944e",
          "grade": false,
          "grade_id": "cell-d6d14cca574aa167",
          "locked": false,
          "schema_version": 3,
          "solution": true,
          "task": false
        },
        "id": "gs_g8YEdD2Rh",
        "outputId": "d6eff80a-b509-455d-efa4-27cdbf955be5",
        "colab": {
          "base_uri": "https://localhost:8080/"
        }
      },
      "outputs": [
        {
          "output_type": "execute_result",
          "data": {
            "text/plain": [
              "{'DE1-cD3pTkA': 1,\n",
              " 'XZqSz_X-j8Y': 7,\n",
              " 'vzpD6OogahQ': 87806,\n",
              " '_OpzEHBDwQE': 179,\n",
              " 'yzGWOpop6i8': 315,\n",
              " 'fCmkdzl6b84': 14,\n",
              " 'DOD38Y72zyk': 16,\n",
              " 'UYQqu53mFng': 0,\n",
              " 'c1NaGio2Geo': 525,\n",
              " 'BpKQEoN5M2g': 450}"
            ]
          },
          "metadata": {},
          "execution_count": 19
        }
      ],
      "source": [
        "def lists_to_dict(data):\n",
        "    \"\"\"\n",
        "    This function takes a list of lists as input. Each list contains the following elements: video_id, title, view_count, like_count, comment_count, duration. The function should return a dictionary where the keys are the video_id and the values are the corresponding lists.\n",
        "    \"\"\"\n",
        "    likes_dict = dict()\n",
        "    for d in data:\n",
        "      likes_dict[d[0]] = d[3]\n",
        "    return likes_dict\n",
        "\n",
        "lists_to_dict(data)"
      ]
    },
    {
      "cell_type": "code",
      "execution_count": null,
      "metadata": {
        "deletable": false,
        "editable": false,
        "nbgrader": {
          "cell_type": "code",
          "checksum": "2340b03275ef75eb343bc77e231f0fc0",
          "grade": true,
          "grade_id": "cell-055dd16eeee0ad9f",
          "locked": true,
          "points": 2,
          "schema_version": 3,
          "solution": false,
          "task": false
        },
        "id": "TY9GElqID2Rh"
      },
      "outputs": [],
      "source": [
        "\"\"\"check that the output is correct\"\"\"\n",
        "assert lists_to_dict(data) == {'DE1-cD3pTkA': 1,\n",
        "                               'XZqSz_X-j8Y': 7,\n",
        "                               'vzpD6OogahQ': 87806,\n",
        "                               '_OpzEHBDwQE': 179,\n",
        "                               'yzGWOpop6i8': 315,\n",
        "                               'fCmkdzl6b84': 14,\n",
        "                               'DOD38Y72zyk': 16,\n",
        "                               'UYQqu53mFng': 0,\n",
        "                               'c1NaGio2Geo': 525,\n",
        "                               'BpKQEoN5M2g': 450}\n",
        "assert lists_to_dict(data[0:5]) == {'DE1-cD3pTkA': 1,\n",
        "                                    'XZqSz_X-j8Y': 7,\n",
        "                                    'vzpD6OogahQ': 87806,\n",
        "                                    '_OpzEHBDwQE': 179,\n",
        "                                    'yzGWOpop6i8': 315}\n",
        "assert lists_to_dict([]) == {}\n"
      ]
    },
    {
      "cell_type": "markdown",
      "metadata": {
        "deletable": false,
        "editable": false,
        "nbgrader": {
          "cell_type": "markdown",
          "checksum": "802dda61695e7065ec71bbec29f63550",
          "grade": false,
          "grade_id": "cell-0d0d28abbbec68ba",
          "locked": true,
          "schema_version": 3,
          "solution": false,
          "task": false
        },
        "id": "Y0t0ARI9D2Rh"
      },
      "source": [
        "### 4. Write a function that accepts a list of the above 6 pieces of information about the videos and returns the title with the most likes."
      ]
    },
    {
      "cell_type": "code",
      "execution_count": null,
      "metadata": {
        "deletable": false,
        "nbgrader": {
          "cell_type": "code",
          "checksum": "ae40568c693fd851b01ee1f63f0bc203",
          "grade": false,
          "grade_id": "cell-e7a5d3cc1e7a871d",
          "locked": false,
          "schema_version": 3,
          "solution": true,
          "task": false
        },
        "id": "Pd_hGcdZD2Rh"
      },
      "outputs": [],
      "source": [
        "def find_most_popular(data):\n",
        "    \"\"\"\n",
        "    This function takes a list of lists as input. Each list contains the following elements: video_id, title, view_count, like_count, comment_count, duration. The function should return the title of the video with the highest view count.\n",
        "    \"\"\"\n",
        "\n",
        "\n"
      ]
    },
    {
      "cell_type": "code",
      "execution_count": null,
      "metadata": {
        "deletable": false,
        "editable": false,
        "nbgrader": {
          "cell_type": "code",
          "checksum": "cac228e1e775f80b04a447d3f45851da",
          "grade": true,
          "grade_id": "cell-ae4cb0a4bd2e5811",
          "locked": true,
          "points": 2,
          "schema_version": 3,
          "solution": false,
          "task": false
        },
        "id": "hK_PapTqD2Rh"
      },
      "outputs": [],
      "source": [
        "assert find_most_popular(data) == 'Potter Puppet Pals: School Is For Losers'\n",
        "assert find_most_popular(data[0:5]) == 'Potter Puppet Pals: School Is For Losers'\n",
        "assert find_most_popular(data[5::]) == 'COOLEST GUY ON THE RIDE'"
      ]
    },
    {
      "cell_type": "markdown",
      "metadata": {
        "deletable": false,
        "editable": false,
        "nbgrader": {
          "cell_type": "markdown",
          "checksum": "0a0ac5541a01252183a4ef9843c4d493",
          "grade": false,
          "grade_id": "cell-752b8ea0be1cd3e8",
          "locked": true,
          "schema_version": 3,
          "solution": false,
          "task": false
        },
        "id": "Qu4VJsgnD2Ri"
      },
      "source": [
        "### 5. Write a function that accepts a list of the above 6 pieces of information about the videos and returns the title with the most likes, using the `sorted` function."
      ]
    },
    {
      "cell_type": "code",
      "execution_count": 28,
      "metadata": {
        "deletable": false,
        "nbgrader": {
          "cell_type": "code",
          "checksum": "f0c38697f53fbbba0055f47f17abed06",
          "grade": false,
          "grade_id": "cell-0ad7e4ada3f837ec",
          "locked": false,
          "schema_version": 3,
          "solution": true,
          "task": false
        },
        "id": "xkYVZ5VmD2Ri",
        "outputId": "52b24d87-6e8d-4203-ac3f-a195fe1ef5e3",
        "colab": {
          "base_uri": "https://localhost:8080/",
          "height": 35
        }
      },
      "outputs": [
        {
          "output_type": "execute_result",
          "data": {
            "text/plain": [
              "'Potter Puppet Pals: School Is For Losers'"
            ],
            "application/vnd.google.colaboratory.intrinsic+json": {
              "type": "string"
            }
          },
          "metadata": {},
          "execution_count": 28
        }
      ],
      "source": [
        "def find_most_popular_using_sorted(data):\n",
        "    \"\"\"\n",
        "    This function takes a list of lists as input. Each list contains the following elements: video_id, title, view_count, like_count, comment_count, duration. The function should return the title of the video with the highest view count.\n",
        "    \"\"\"\n",
        "    return sorted(data, key = lambda x: x[2], reverse = True)[0][1]\n",
        "\n",
        "find_most_popular_using_sorted(data)\n",
        "\n",
        "\n",
        "\n"
      ]
    },
    {
      "cell_type": "code",
      "execution_count": null,
      "metadata": {
        "deletable": false,
        "editable": false,
        "nbgrader": {
          "cell_type": "code",
          "checksum": "f48c290a7bb4deef8ac074a02c55ce6e",
          "grade": true,
          "grade_id": "cell-d62da9ce7ff9404b",
          "locked": true,
          "points": 2,
          "schema_version": 3,
          "solution": false,
          "task": false
        },
        "id": "hDnORpFsD2Ri"
      },
      "outputs": [],
      "source": [
        "assert find_most_popular_using_sorted(data) == 'Potter Puppet Pals: School Is For Losers'\n",
        "assert find_most_popular_using_sorted(data[0:5]) == 'Potter Puppet Pals: School Is For Losers'\n",
        "assert find_most_popular_using_sorted(data[5::]) == 'COOLEST GUY ON THE RIDE'"
      ]
    },
    {
      "cell_type": "markdown",
      "metadata": {
        "deletable": false,
        "editable": false,
        "nbgrader": {
          "cell_type": "markdown",
          "checksum": "7ef45ba1aea804954d10cb317fc4317b",
          "grade": false,
          "grade_id": "cell-d8be02e5dd704239",
          "locked": true,
          "schema_version": 3,
          "solution": false,
          "task": false
        },
        "id": "mXgGBi2gD2Ri"
      },
      "source": [
        "### 6. Write a function that accepts a list of the above 6 pieces of information about the videos and a video id and returns the title of the video and the number of likes."
      ]
    },
    {
      "cell_type": "code",
      "execution_count": null,
      "metadata": {
        "deletable": false,
        "nbgrader": {
          "cell_type": "code",
          "checksum": "51837d133b852030bc868e54dd9eeef3",
          "grade": false,
          "grade_id": "cell-0b776f477ae9a568",
          "locked": false,
          "schema_version": 3,
          "solution": true,
          "task": false
        },
        "id": "s_BQADHnD2Ri"
      },
      "outputs": [],
      "source": [
        "def get_title_num_likes(data, video_id):\n",
        "    \"\"\"\n",
        "    This function takes a list of lists as input and a video_id. Each list contains the following elements: video_id, title, view_count, like_count, comment_count, duration. The function should return the title of the video and the number of likes.\n",
        "    \"\"\"\n",
        "\n",
        "    # YOUR CODE HERE\n",
        "    raise NotImplementedError()\n"
      ]
    },
    {
      "cell_type": "code",
      "execution_count": null,
      "metadata": {
        "deletable": false,
        "editable": false,
        "nbgrader": {
          "cell_type": "code",
          "checksum": "1cdd2f7b68551ec1be2a99040b54cdc9",
          "grade": true,
          "grade_id": "cell-0adc9a281ce15333",
          "locked": true,
          "points": 2,
          "schema_version": 3,
          "solution": false,
          "task": false
        },
        "id": "VdTh7_EMD2Ri"
      },
      "outputs": [],
      "source": [
        "\"\"\"Check that the output is correct\"\"\"\n",
        "\n",
        "assert get_title_num_likes(data, '_OpzEHBDwQE') == ('Very Funny Commercial  Think Beyond Your Ear (UNRELEASED)', 179)\n",
        "assert get_title_num_likes(data, 'yzGWOpop6i8') == ('Happy Valentines Day', 315)\n",
        "assert get_title_num_likes(data, 'test') is None\n"
      ]
    }
  ],
  "metadata": {
    "kernelspec": {
      "display_name": "Python 3 (ipykernel)",
      "language": "python",
      "name": "python3"
    },
    "language_info": {
      "codemirror_mode": {
        "name": "ipython",
        "version": 3
      },
      "file_extension": ".py",
      "mimetype": "text/x-python",
      "name": "python",
      "nbconvert_exporter": "python",
      "pygments_lexer": "ipython3",
      "version": "3.12.7"
    },
    "colab": {
      "provenance": []
    }
  },
  "nbformat": 4,
  "nbformat_minor": 0
}